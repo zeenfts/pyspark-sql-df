{
 "cells": [
  {
   "cell_type": "markdown",
   "metadata": {},
   "source": [
    "<div style=\"text-align:center;\">\n",
    "<h1>PySpark Analysis NYC TLC Trips Records Data Feb 2021</h1>\n",
    "<hr>\n",
    "<sub>Muhammad Difagama Ivanka</sub><br><br>\n",
    "<img src=\"https://upload.wikimedia.org/wikipedia/commons/thumb/b/b0/Old_checker_cab.jpg/2560px-Old_checker_cab.jpg\" alt=\"Paris\" style=\"width: 100%; max-width: 534px; height: 400px;\"><br>\n",
    "<sub><sub>Photo by <a href=\"https://www.flickr.com/photos/zombieite/4987163977/\">Flickr</a></sub></sub></div>"
   ]
  },
  {
   "cell_type": "markdown",
   "metadata": {},
   "source": [
    "## Start"
   ]
  },
  {
   "cell_type": "code",
   "execution_count": 2,
   "metadata": {},
   "outputs": [
    {
     "name": "stderr",
     "output_type": "stream",
     "text": [
      "WARNING:root:'PYARROW_IGNORE_TIMEZONE' environment variable was not set. It is required to set this environment variable to '1' in both driver and executor sides if you use pyarrow>=2.0.0. pandas-on-Spark will set it for you but it does not work if there is a Spark context already launched.\n"
     ]
    }
   ],
   "source": [
    "import numpy as np\n",
    "np.random.seed(233)\n",
    "import pandas as pd\n",
    "import pyspark\n",
    "import pyspark.pandas as ps\n",
    "from pyspark.sql import SparkSession\n",
    "from pyspark.sql import types\n",
    "from pyspark.sql import functions as F"
   ]
  },
  {
   "cell_type": "code",
   "execution_count": 3,
   "metadata": {},
   "outputs": [],
   "source": [
    "spark = SparkSession.builder \\\n",
    "    .master('local[*]') \\\n",
    "    .appName('nyc_spark') \\\n",
    "    .getOrCreate()"
   ]
  },
  {
   "cell_type": "code",
   "execution_count": 7,
   "metadata": {},
   "outputs": [
    {
     "name": "stdout",
     "output_type": "stream",
     "text": [
      "--2022-12-31 01:28:50--  https://d37ci6vzurychx.cloudfront.net/trip-data/yellow_tripdata_2021-02.parquet\n",
      "Resolving d37ci6vzurychx.cloudfront.net (d37ci6vzurychx.cloudfront.net)... 18.161.108.231, 18.161.108.141, 18.161.108.77, ...\n",
      "Connecting to d37ci6vzurychx.cloudfront.net (d37ci6vzurychx.cloudfront.net)|18.161.108.231|:443... connected.\n",
      "HTTP request sent, awaiting response... 200 OK\n",
      "Length: 21777258 (21M) [application/x-www-form-urlencoded]\n",
      "Saving to: ‘./resources/data/yellow_tripdata_2021-02.parquet’\n",
      "\n",
      "./resources/data/ye 100%[===================>]  20.77M  1.42MB/s    in 13s     \n",
      "\n",
      "utime(./resources/data/yellow_tripdata_2021-02.parquet): Operation not permitted\n",
      "2022-12-31 01:29:05 (1.56 MB/s) - ‘./resources/data/yellow_tripdata_2021-02.parquet’ saved [21777258/21777258]\n",
      "\n",
      "--2022-12-31 01:29:06--  https://d37ci6vzurychx.cloudfront.net/trip-data/green_tripdata_2021-02.parquet\n",
      "Resolving d37ci6vzurychx.cloudfront.net (d37ci6vzurychx.cloudfront.net)... ::ffff:18.161.108.231, ::ffff:18.161.108.141, ::ffff:18.161.108.77, ...\n",
      "Connecting to d37ci6vzurychx.cloudfront.net (d37ci6vzurychx.cloudfront.net)|::ffff:18.161.108.231|:443... connected.\n",
      "HTTP request sent, awaiting response... 200 OK\n",
      "Length: 1145679 (1.1M) [binary/octet-stream]\n",
      "Saving to: ‘./resources/data/green_tripdata_2021-02.parquet’\n",
      "\n",
      "./resources/data/gr 100%[===================>]   1.09M   992KB/s    in 1.1s    \n",
      "\n",
      "utime(./resources/data/green_tripdata_2021-02.parquet): Operation not permitted\n",
      "2022-12-31 01:29:08 (992 KB/s) - ‘./resources/data/green_tripdata_2021-02.parquet’ saved [1145679/1145679]\n",
      "\n",
      "--2022-12-31 01:29:09--  https://d37ci6vzurychx.cloudfront.net/trip-data/fhv_tripdata_2021-02.parquet\n",
      "Resolving d37ci6vzurychx.cloudfront.net (d37ci6vzurychx.cloudfront.net)... 18.161.108.231, 18.161.108.141, 18.161.108.77, ...\n",
      "Connecting to d37ci6vzurychx.cloudfront.net (d37ci6vzurychx.cloudfront.net)|18.161.108.231|:443... connected.\n",
      "HTTP request sent, awaiting response... 200 OK\n",
      "Length: 10645466 (10M) [binary/octet-stream]\n",
      "Saving to: ‘./resources/data/fhv_tripdata_2021-02.parquet’\n",
      "\n",
      "./resources/data/fh 100%[===================>]  10.15M  1.59MB/s    in 6.2s    \n",
      "\n",
      "utime(./resources/data/fhv_tripdata_2021-02.parquet): Operation not permitted\n",
      "2022-12-31 01:29:17 (1.64 MB/s) - ‘./resources/data/fhv_tripdata_2021-02.parquet’ saved [10645466/10645466]\n",
      "\n"
     ]
    }
   ],
   "source": [
    "DATA_PATH = './resources/data'\n",
    "\n",
    "!wget https://d37ci6vzurychx.cloudfront.net/trip-data/yellow_tripdata_2021-02.parquet -O {DATA_PATH}/yellow_tripdata_2021-02.parquet\n",
    "!wget https://d37ci6vzurychx.cloudfront.net/trip-data/green_tripdata_2021-02.parquet -O {DATA_PATH}/green_tripdata_2021-02.parquet\n",
    "!wget https://d37ci6vzurychx.cloudfront.net/trip-data/fhv_tripdata_2021-02.parquet -O {DATA_PATH}/fhv_tripdata_2021-02.parquet"
   ]
  },
  {
   "cell_type": "code",
   "execution_count": 10,
   "metadata": {},
   "outputs": [],
   "source": [
    "df_yellow = spark.read.parquet(f'{DATA_PATH}/yellow_tripdata_2021-02.parquet')\n",
    "df_green = spark.read.parquet(f'{DATA_PATH}/green_tripdata_2021-02.parquet')\n",
    "df_fhv = spark.read.parquet(f'{DATA_PATH}/fhv_tripdata_2021-02.parquet')"
   ]
  },
  {
   "cell_type": "code",
   "execution_count": 11,
   "metadata": {},
   "outputs": [
    {
     "name": "stdout",
     "output_type": "stream",
     "text": [
      "DataFrame[VendorID: bigint, tpep_pickup_datetime: timestamp, tpep_dropoff_datetime: timestamp, passenger_count: double, trip_distance: double, RatecodeID: double, store_and_fwd_flag: string, PULocationID: bigint, DOLocationID: bigint, payment_type: bigint, fare_amount: double, extra: double, mta_tax: double, tip_amount: double, tolls_amount: double, improvement_surcharge: double, total_amount: double, congestion_surcharge: double, airport_fee: double] \n",
      "\n",
      "DataFrame[VendorID: bigint, lpep_pickup_datetime: timestamp, lpep_dropoff_datetime: timestamp, store_and_fwd_flag: string, RatecodeID: double, PULocationID: bigint, DOLocationID: bigint, passenger_count: double, trip_distance: double, fare_amount: double, extra: double, mta_tax: double, tip_amount: double, tolls_amount: double, ehail_fee: int, improvement_surcharge: double, total_amount: double, payment_type: double, trip_type: double, congestion_surcharge: double] \n",
      "\n",
      "DataFrame[dispatching_base_num: string, pickup_datetime: timestamp, dropOff_datetime: timestamp, PUlocationID: double, DOlocationID: double, SR_Flag: int, Affiliated_base_number: string]\n"
     ]
    }
   ],
   "source": [
    "# Only get the February 2021 data\n",
    "def filtered_data(the_df, pickup_col: str, dropoff_col: str):\n",
    "    pickup_col = F.col(pickup_col)\n",
    "    dropoff_col = F.col(dropoff_col)\n",
    "\n",
    "    the_df = the_df.where((pickup_col >= \"2021-02-01 00:00:00\")\n",
    "    & (pickup_col< \"2021-03-01 00:00:00\"))\n",
    "    the_df = the_df.where((dropoff_col >= \"2021-02-01 00:00:00\"))\n",
    "    return the_df\n",
    "\n",
    "df_yellow = filtered_data(df_yellow, 'tpep_pickup_datetime', 'tpep_dropoff_datetime')\n",
    "df_green = filtered_data(df_green, 'lpep_pickup_datetime', 'lpep_dropoff_datetime')\n",
    "df_fhv = filtered_data(df_fhv, 'pickup_datetime', 'dropOff_datetime')\n",
    "\n",
    "print(df_yellow, \"\\n\")\n",
    "print(df_green, \"\\n\")\n",
    "print(df_fhv)"
   ]
  },
  {
   "cell_type": "markdown",
   "metadata": {},
   "source": [
    "## 1. How many taxi trips were there on February 15?"
   ]
  },
  {
   "cell_type": "code",
   "execution_count": 12,
   "metadata": {},
   "outputs": [
    {
     "name": "stdout",
     "output_type": "stream",
     "text": [
      "Yellow Taxi Trips on 15 February 2021\t\t\t: 43734\n",
      "Green Taxi Trips on 15 February 2021\t\t\t: 1798\n",
      "For-Hire Vehicle (FHV) Trips on 15 February 2021\t: 35523\n",
      "All Taxi Total Trips on 15 February 2021\t\t: 81055\n"
     ]
    }
   ],
   "source": [
    "def total_trips_cnt(the_df, pickup_time_col: str, beautify = True):\n",
    "    pickup_nm = F.col(pickup_time_col)\n",
    "    the_df = the_df.where((F.to_date(pickup_nm) == \"2021-02-15\"))\n",
    "\n",
    "    if beautify:\n",
    "        the_df = the_df.count()\n",
    "    else:\n",
    "        the_df = the_df.groupBy(F.to_date(pickup_nm)).count()\n",
    "        the_df = the_df.withColumnRenamed(f'to_date({pickup_time_col})', 'Pickup Date')\\\n",
    "            .withColumnRenamed('count', 'Total Trips')\n",
    "    return the_df\n",
    "\n",
    "dbn_col = F.col('dispatching_base_num')\n",
    "df_fhv_dbn = df_fhv.groupBy(dbn_col).count()\n",
    "df_fhv_dbn = df_fhv_dbn.orderBy(F.col('count').desc())\n",
    "\n",
    "yel_cnt = total_trips_cnt(df_yellow, 'tpep_pickup_datetime')\n",
    "grn_cnt = total_trips_cnt(df_green, 'lpep_pickup_datetime')\n",
    "fhv_cnt = total_trips_cnt(df_fhv, 'pickup_datetime')\n",
    "\n",
    "print(f\"Yellow Taxi Trips on 15 February 2021\\t\\t\\t: {yel_cnt}\")\n",
    "print(f\"Green Taxi Trips on 15 February 2021\\t\\t\\t: {grn_cnt}\")\n",
    "print(f\"For-Hire Vehicle (FHV) Trips on 15 February 2021\\t: {fhv_cnt}\")\n",
    "print(f\"All Taxi Total Trips on 15 February 2021\\t\\t: {np.sum([yel_cnt,grn_cnt,fhv_cnt])}\")"
   ]
  },
  {
   "cell_type": "code",
   "execution_count": 13,
   "metadata": {},
   "outputs": [
    {
     "name": "stdout",
     "output_type": "stream",
     "text": [
      "Yellow Taxi Trip Records\n",
      "+-----------+-----------+\n",
      "|Pickup Date|Total Trips|\n",
      "+-----------+-----------+\n",
      "| 2021-02-15|      43734|\n",
      "+-----------+-----------+\n",
      "\n"
     ]
    }
   ],
   "source": [
    "print('Yellow Taxi Trip Records')\n",
    "total_trip_df_y = total_trips_cnt(df_yellow, 'tpep_pickup_datetime', False)\n",
    "total_trip_df_y.show()"
   ]
  },
  {
   "cell_type": "code",
   "execution_count": 14,
   "metadata": {},
   "outputs": [
    {
     "name": "stdout",
     "output_type": "stream",
     "text": [
      "Green Taxi Trip Records\n",
      "+-----------+-----------+\n",
      "|Pickup Date|Total Trips|\n",
      "+-----------+-----------+\n",
      "| 2021-02-15|       1798|\n",
      "+-----------+-----------+\n",
      "\n"
     ]
    }
   ],
   "source": [
    "print('Green Taxi Trip Records')\n",
    "total_trip_df_g = total_trips_cnt(df_green, 'lpep_pickup_datetime', False)\n",
    "total_trip_df_g.show()"
   ]
  },
  {
   "cell_type": "code",
   "execution_count": 16,
   "metadata": {},
   "outputs": [
    {
     "name": "stdout",
     "output_type": "stream",
     "text": [
      "FHV Trip Records\n",
      "+-----------+-----------+\n",
      "|Pickup Date|Total Trips|\n",
      "+-----------+-----------+\n",
      "| 2021-02-15|      35523|\n",
      "+-----------+-----------+\n",
      "\n"
     ]
    }
   ],
   "source": [
    "print('FHV Trip Records')\n",
    "total_trip_df_fhv = total_trips_cnt(df_fhv, 'pickup_datetime', False)\n",
    "total_trip_df_fhv.show()"
   ]
  },
  {
   "cell_type": "markdown",
   "metadata": {},
   "source": [
    "## 2. The longest trip for each day"
   ]
  },
  {
   "cell_type": "markdown",
   "metadata": {},
   "source": [
    "### The Longest Duration (hours)"
   ]
  },
  {
   "cell_type": "code",
   "execution_count": 17,
   "metadata": {},
   "outputs": [
    {
     "name": "stdout",
     "output_type": "stream",
     "text": [
      "\n",
      "Yellow Taxi Trip Records\n",
      "+-----------+----------------+\n",
      "|Pickup Date|Longest Duration|\n",
      "+-----------+----------------+\n",
      "|2021-02-01 |23.7            |\n",
      "|2021-02-02 |23.98           |\n",
      "|2021-02-03 |23.99           |\n",
      "|2021-02-04 |24.0            |\n",
      "|2021-02-05 |23.99           |\n",
      "|2021-02-06 |23.98           |\n",
      "|2021-02-07 |23.99           |\n",
      "|2021-02-08 |23.99           |\n",
      "|2021-02-09 |23.98           |\n",
      "|2021-02-10 |23.99           |\n",
      "|2021-02-11 |23.98           |\n",
      "|2021-02-12 |23.99           |\n",
      "|2021-02-13 |27.78           |\n",
      "|2021-02-14 |23.97           |\n",
      "|2021-02-15 |23.98           |\n",
      "|2021-02-16 |23.98           |\n",
      "|2021-02-17 |23.99           |\n",
      "|2021-02-18 |23.98           |\n",
      "|2021-02-19 |23.98           |\n",
      "|2021-02-20 |23.98           |\n",
      "|2021-02-21 |23.98           |\n",
      "|2021-02-22 |23.98           |\n",
      "|2021-02-23 |23.99           |\n",
      "|2021-02-24 |23.99           |\n",
      "|2021-02-25 |24.0            |\n",
      "|2021-02-26 |23.98           |\n",
      "|2021-02-27 |23.98           |\n",
      "|2021-02-28 |23.99           |\n",
      "+-----------+----------------+\n",
      "\n"
     ]
    }
   ],
   "source": [
    "def duration_trips_cal(the_df, pickup_col: str, dropoff_col: str, type_find = 'duration',\n",
    "res_name_col = 'Longest Duration', max_col = 'trip_duration'):\n",
    "    '''\n",
    "    * the_df: dataframe.\n",
    "    * pickup_col: name of pickup datetime column.\n",
    "    * dropoff_col: name of dropoff datetime column.\n",
    "    * type_find: distance or duration.\n",
    "    * res_name_col: name of target column.\n",
    "    * max_col: name of datetime column groupby.\\n\n",
    "    -> return in hour(s) if use default value of type_find.\n",
    "    '''\n",
    "    date_col = F.to_date(pickup_col)\n",
    "    org_col = 'Pickup Date'\n",
    "    df_temp = the_df\n",
    "\n",
    "    if type_find == 'duration':\n",
    "        df_temp = the_df.withColumn(\n",
    "            max_col,\n",
    "            F.round((F.col(dropoff_col).cast('long') - F.col(pickup_col).cast('long'))/3600, 2)\n",
    "        )\n",
    "    \n",
    "    df_temp = df_temp.withColumn(max_col, F.round(F.col(max_col), 2))\n",
    "    df_temp = df_temp.groupBy(date_col).max(max_col)\n",
    "    df_temp = df_temp.withColumnRenamed(f'max({max_col})', res_name_col)\\\n",
    "        .withColumnRenamed(f'to_date({pickup_col})', org_col)\n",
    "    org_col = F.col(org_col)\n",
    "    df_temp = df_temp.orderBy(org_col.asc())\n",
    "    return df_temp\n",
    "\n",
    "N_show, TRCT = 28, False\n",
    "\n",
    "print('\\nYellow Taxi Trip Records')\n",
    "long_trip_df_y = duration_trips_cal(df_yellow, 'tpep_pickup_datetime', 'tpep_dropoff_datetime')\n",
    "long_trip_df_y.show(n=N_show, truncate=TRCT)"
   ]
  },
  {
   "cell_type": "code",
   "execution_count": 18,
   "metadata": {},
   "outputs": [
    {
     "name": "stdout",
     "output_type": "stream",
     "text": [
      "\n",
      "Green Taxi Trip Records\n",
      "+-----------+----------------+\n",
      "|Pickup Date|Longest Duration|\n",
      "+-----------+----------------+\n",
      "|2021-02-01 |1.4             |\n",
      "|2021-02-02 |23.12           |\n",
      "|2021-02-03 |23.67           |\n",
      "|2021-02-04 |23.83           |\n",
      "|2021-02-05 |23.77           |\n",
      "|2021-02-06 |23.86           |\n",
      "|2021-02-07 |7.89            |\n",
      "|2021-02-08 |23.75           |\n",
      "|2021-02-09 |23.6            |\n",
      "|2021-02-10 |23.59           |\n",
      "|2021-02-11 |23.91           |\n",
      "|2021-02-12 |23.68           |\n",
      "|2021-02-13 |23.84           |\n",
      "|2021-02-14 |23.54           |\n",
      "|2021-02-15 |4.36            |\n",
      "|2021-02-16 |23.99           |\n",
      "|2021-02-17 |23.61           |\n",
      "|2021-02-18 |22.67           |\n",
      "|2021-02-19 |23.66           |\n",
      "|2021-02-20 |23.85           |\n",
      "|2021-02-21 |21.86           |\n",
      "|2021-02-22 |23.87           |\n",
      "|2021-02-23 |23.97           |\n",
      "|2021-02-24 |23.99           |\n",
      "|2021-02-25 |23.96           |\n",
      "|2021-02-26 |23.79           |\n",
      "|2021-02-27 |23.61           |\n",
      "|2021-02-28 |23.42           |\n",
      "+-----------+----------------+\n",
      "\n"
     ]
    }
   ],
   "source": [
    "print('\\nGreen Taxi Trip Records')\n",
    "long_trip_df_g = duration_trips_cal(df_green, 'lpep_pickup_datetime', 'lpep_dropoff_datetime')\n",
    "long_trip_df_g.show(n=N_show, truncate=TRCT)"
   ]
  },
  {
   "cell_type": "code",
   "execution_count": 19,
   "metadata": {},
   "outputs": [
    {
     "name": "stdout",
     "output_type": "stream",
     "text": [
      "\n",
      "FHV Trip Records\n",
      "+-----------+----------------+\n",
      "|Pickup Date|Longest Duration|\n",
      "+-----------+----------------+\n",
      "|2021-02-01 |771.5           |\n",
      "|2021-02-02 |23.18           |\n",
      "|2021-02-03 |20.77           |\n",
      "|2021-02-04 |667.25          |\n",
      "|2021-02-05 |1848.65         |\n",
      "|2021-02-06 |45.88           |\n",
      "|2021-02-07 |21.77           |\n",
      "|2021-02-08 |157.08          |\n",
      "|2021-02-09 |24.33           |\n",
      "|2021-02-10 |23.83           |\n",
      "|2021-02-11 |53.66           |\n",
      "|2021-02-12 |72.4            |\n",
      "|2021-02-13 |140.38          |\n",
      "|2021-02-14 |25.32           |\n",
      "|2021-02-15 |244.5           |\n",
      "|2021-02-16 |80.27           |\n",
      "|2021-02-17 |71.41           |\n",
      "|2021-02-18 |45.82           |\n",
      "|2021-02-19 |150.2           |\n",
      "|2021-02-20 |45.02           |\n",
      "|2021-02-21 |24.85           |\n",
      "|2021-02-22 |216.69          |\n",
      "|2021-02-23 |672.53          |\n",
      "|2021-02-24 |46.13           |\n",
      "|2021-02-25 |674.82          |\n",
      "|2021-02-26 |44.63           |\n",
      "|2021-02-27 |284.73          |\n",
      "|2021-02-28 |262.72          |\n",
      "+-----------+----------------+\n",
      "\n"
     ]
    }
   ],
   "source": [
    "print('\\nFHV Trip Records')\n",
    "long_trip_df_fhv = duration_trips_cal(df_fhv, 'pickup_datetime', 'dropOff_datetime')\n",
    "long_trip_df_fhv.show(n=N_show, truncate=TRCT)"
   ]
  },
  {
   "cell_type": "markdown",
   "metadata": {},
   "source": [
    "### The Longest Distance (miles)"
   ]
  },
  {
   "cell_type": "code",
   "execution_count": 20,
   "metadata": {},
   "outputs": [
    {
     "name": "stdout",
     "output_type": "stream",
     "text": [
      "\n",
      "Yellow Taxi Trip Records\n",
      "+-----------+----------------+\n",
      "|Pickup Date|Longest Distance|\n",
      "+-----------+----------------+\n",
      "|2021-02-01 |38.89           |\n",
      "|2021-02-02 |73.24           |\n",
      "|2021-02-03 |186079.73       |\n",
      "|2021-02-04 |82.19           |\n",
      "|2021-02-05 |91134.16        |\n",
      "|2021-02-06 |48.35           |\n",
      "|2021-02-07 |186510.67       |\n",
      "|2021-02-08 |186617.92       |\n",
      "|2021-02-09 |89416.24        |\n",
      "|2021-02-10 |116.74          |\n",
      "|2021-02-11 |54.4            |\n",
      "|2021-02-12 |34346.07        |\n",
      "|2021-02-13 |54381.65        |\n",
      "|2021-02-14 |115928.92       |\n",
      "|2021-02-15 |52.89           |\n",
      "|2021-02-16 |221188.25       |\n",
      "|2021-02-17 |95.3            |\n",
      "|2021-02-18 |140145.44       |\n",
      "|2021-02-19 |75.81           |\n",
      "|2021-02-20 |188054.03       |\n",
      "|2021-02-21 |47327.62        |\n",
      "|2021-02-22 |55.87           |\n",
      "|2021-02-23 |62.45           |\n",
      "|2021-02-24 |90073.44        |\n",
      "|2021-02-25 |48.53           |\n",
      "|2021-02-26 |90796.21        |\n",
      "|2021-02-27 |91.05           |\n",
      "|2021-02-28 |29486.5         |\n",
      "+-----------+----------------+\n",
      "\n"
     ]
    }
   ],
   "source": [
    "print('\\nYellow Taxi Trip Records')\n",
    "long_dis_df_y = duration_trips_cal(df_yellow, 'tpep_pickup_datetime', 'tpep_dropoff_datetime', 'distance',\n",
    "'Longest Distance', 'trip_distance')\n",
    "long_dis_df_y.show(n=N_show, truncate=TRCT)"
   ]
  },
  {
   "cell_type": "code",
   "execution_count": 21,
   "metadata": {},
   "outputs": [
    {
     "name": "stdout",
     "output_type": "stream",
     "text": [
      "\n",
      "Green Taxi Trip Records\n",
      "+-----------+----------------+\n",
      "|Pickup Date|Longest Distance|\n",
      "+-----------+----------------+\n",
      "|2021-02-01 |27.52           |\n",
      "|2021-02-02 |48.1            |\n",
      "|2021-02-03 |36.33           |\n",
      "|2021-02-04 |102620.98       |\n",
      "|2021-02-05 |36.37           |\n",
      "|2021-02-06 |38.75           |\n",
      "|2021-02-07 |90.0            |\n",
      "|2021-02-08 |5634.0          |\n",
      "|2021-02-09 |34.64           |\n",
      "|2021-02-10 |60382.7         |\n",
      "|2021-02-11 |43174.56        |\n",
      "|2021-02-12 |66659.27        |\n",
      "|2021-02-13 |15872.69        |\n",
      "|2021-02-14 |58.03           |\n",
      "|2021-02-15 |44.04           |\n",
      "|2021-02-16 |16191.56        |\n",
      "|2021-02-17 |16240.75        |\n",
      "|2021-02-18 |29501.25        |\n",
      "|2021-02-19 |34.95           |\n",
      "|2021-02-20 |4876.81         |\n",
      "|2021-02-21 |34.29           |\n",
      "|2021-02-22 |43.46           |\n",
      "|2021-02-23 |79.3            |\n",
      "|2021-02-24 |30195.95        |\n",
      "|2021-02-25 |50422.63        |\n",
      "|2021-02-26 |34.85           |\n",
      "|2021-02-27 |34.5            |\n",
      "|2021-02-28 |34.76           |\n",
      "+-----------+----------------+\n",
      "\n"
     ]
    }
   ],
   "source": [
    "print('\\nGreen Taxi Trip Records')\n",
    "long_dis_df_g = duration_trips_cal(df_green, 'lpep_pickup_datetime', 'lpep_dropoff_datetime', 'distance',\n",
    "'Longest Distance', 'trip_distance')\n",
    "long_dis_df_g.show(n=N_show, truncate=TRCT)"
   ]
  },
  {
   "cell_type": "markdown",
   "metadata": {},
   "source": [
    "## 3. Top 5 Most frequent `dispatching_base_num`"
   ]
  },
  {
   "cell_type": "code",
   "execution_count": 22,
   "metadata": {},
   "outputs": [
    {
     "name": "stdout",
     "output_type": "stream",
     "text": [
      "+--------------------+-----+\n",
      "|dispatching_base_num|count|\n",
      "+--------------------+-----+\n",
      "|              B00856|34605|\n",
      "|              B01312|32845|\n",
      "|              B01145|30614|\n",
      "|              B02794|29998|\n",
      "|              B03016|29520|\n",
      "+--------------------+-----+\n",
      "only showing top 5 rows\n",
      "\n"
     ]
    }
   ],
   "source": [
    "dbn_col = F.col('dispatching_base_num')\n",
    "df_fhv_dbn = df_fhv.groupBy(dbn_col).count()\n",
    "df_fhv_dbn = df_fhv_dbn.orderBy(F.col('count').desc())\n",
    "\n",
    "df_fhv_dbn.show(n=5)"
   ]
  },
  {
   "cell_type": "markdown",
   "metadata": {},
   "source": [
    "## 4. Top 5 Most common location pairs (PUlocationID and DOlocationID)"
   ]
  },
  {
   "cell_type": "code",
   "execution_count": 23,
   "metadata": {},
   "outputs": [
    {
     "name": "stdout",
     "output_type": "stream",
     "text": [
      "Yellow Taxi Trip Records\n",
      "+---------------------+-----+\n",
      "|PULocId_DOLocId-pairs|count|\n",
      "+---------------------+-----+\n",
      "|           {237, 236}|11378|\n",
      "|           {236, 237}| 9814|\n",
      "|           {236, 236}| 8754|\n",
      "|           {237, 237}| 7257|\n",
      "|           {264, 264}| 5677|\n",
      "+---------------------+-----+\n",
      "only showing top 5 rows\n",
      "\n"
     ]
    }
   ],
   "source": [
    "def top_5_pd(the_df):\n",
    "    pld_col = 'PULocId_DOLocId-pairs'\n",
    "    the_df = the_df.withColumn(pld_col, F.struct(F.col('PULocationID'), F.col('DOLocationID')))\n",
    "    pld_col = F.col(pld_col)\n",
    "    the_df = the_df.groupBy(pld_col).count()\n",
    "    the_df = the_df.orderBy(F.col('count').desc())\n",
    "    return the_df\n",
    "\n",
    "print('Yellow Taxi Trip Records')\n",
    "df_5_pd_y = top_5_pd(df_yellow)\n",
    "df_5_pd_y.show(5)"
   ]
  },
  {
   "cell_type": "code",
   "execution_count": 24,
   "metadata": {},
   "outputs": [
    {
     "name": "stdout",
     "output_type": "stream",
     "text": [
      "Green Taxi Trip Records\n",
      "+---------------------+-----+\n",
      "|PULocId_DOLocId-pairs|count|\n",
      "+---------------------+-----+\n",
      "|             {74, 75}|  986|\n",
      "|             {75, 74}|  943|\n",
      "|             {74, 74}|  636|\n",
      "|             {41, 42}|  529|\n",
      "|             {74, 42}|  491|\n",
      "+---------------------+-----+\n",
      "only showing top 5 rows\n",
      "\n"
     ]
    }
   ],
   "source": [
    "print('Green Taxi Trip Records')\n",
    "df_5_pd_g = top_5_pd(df_green)\n",
    "df_5_pd_g.show(5)"
   ]
  },
  {
   "cell_type": "code",
   "execution_count": 25,
   "metadata": {},
   "outputs": [
    {
     "name": "stdout",
     "output_type": "stream",
     "text": [
      "FHV Trip Records\n",
      "+---------------------+-----+\n",
      "|PULocId_DOLocId-pairs|count|\n",
      "+---------------------+-----+\n",
      "|           {206, 206}| 2340|\n",
      "|           {221, 206}| 2089|\n",
      "|           {129, 129}| 1879|\n",
      "|               {7, 7}| 1808|\n",
      "|           {179, 179}| 1714|\n",
      "+---------------------+-----+\n",
      "only showing top 5 rows\n",
      "\n"
     ]
    }
   ],
   "source": [
    "pu_col_f = F.col('PULocationID')\n",
    "do_col_f = F.col('DOLocationID')\n",
    "df_fhv_pu_cl = df_fhv.where(pu_col_f.isNotNull())\n",
    "df_fhv_do_cl = df_fhv_pu_cl.where(do_col_f.isNotNull())\n",
    "df_fhv_do_cl = df_fhv_do_cl.withColumn('PULocationID', pu_col_f.cast('int'))\\\n",
    "    .withColumn('DOLocationID', do_col_f.cast('int'))\n",
    "\n",
    "print('FHV Trip Records')\n",
    "df_5_pd_fhv = top_5_pd(df_fhv_do_cl)\n",
    "df_5_pd_fhv.show(5)"
   ]
  },
  {
   "cell_type": "markdown",
   "metadata": {},
   "source": [
    "## 5. Write Result to BigQuery\n",
    "\n",
    "### Direct way"
   ]
  },
  {
   "cell_type": "code",
   "execution_count": 29,
   "metadata": {},
   "outputs": [],
   "source": [
    "# https://googleapis.dev/python/pandas-gbq/latest/writing.html\n",
    "import pandas_gbq\n",
    "\n",
    "# TODO: Set project_id to your Google Cloud Platform project ID.\n",
    "# project_id = \"my-project\"\n",
    "\n",
    "# TODO: Set table_id to the full destination table ID (including the\n",
    "#       dataset ID).\n",
    "# table_id = 'my_dataset.my_table'\n",
    "\n",
    "df = df_5_pd_fhv\n",
    "\n",
    "pandas_gbq.to_gbq(df, table_id, project_id=project_id)"
   ]
  },
  {
   "cell_type": "code",
   "execution_count": 28,
   "metadata": {},
   "outputs": [],
   "source": [
    "# https://github.com/GoogleCloudDataproc/spark-bigquery-connector\n",
    "df_5_pd_fhv.write \\\n",
    "  .format(\"bigquery\") \\\n",
    "  .option(\"writeMethod\", \"direct\") \\\n",
    "  .save(\"pyspark_nyc.five_fhv_pd\")"
   ]
  },
  {
   "cell_type": "markdown",
   "metadata": {},
   "source": [
    "### Indirect way"
   ]
  },
  {
   "cell_type": "code",
   "execution_count": 191,
   "metadata": {},
   "outputs": [],
   "source": [
    "from google.cloud import storage, bigquery\n",
    "\n",
    "def save_as_parquet(the_df, filename) -> None:\n",
    "    the_df.write.parquet(f'{filename}.parquet')\n",
    "\n",
    "def upload_to_gcs(bucket: str, object_name: str, local_file: str) -> None:\n",
    "    \"\"\"\n",
    "    Ref: https://cloud.google.com/storage/docs/uploading-objects#storage-upload-object-python\n",
    "    * bucket: GCS bucket name (existed)\n",
    "    * object_name: target path & file-name\n",
    "    * local_file: source path & file-name\\n\n",
    "    -> return log\n",
    "    \"\"\"\n",
    "    storage_client = storage.Client()\n",
    "\n",
    "    buckt = storage_client.bucket(bucket)\n",
    "\n",
    "    blob = buckt.blob(object_name)\n",
    "    blob.upload_from_filename(local_file)\n",
    "\n",
    "def gcs_to_bq(table_id: str, gcs_parquet_file: list) -> None:\n",
    "    \"\"\"\n",
    "    https://github.com/googleapis/python-bigquery/blob/main/samples/load_table_uri_parquet.py\n",
    "    * table_id: YOUR_GCP_PROJECT.YOUR_DATASET.YOUR_TABLE_NAME\n",
    "    * gcs_parquet_file: list of GCS file to transfer to BQ by the url \n",
    "    -> 'gs://YOUR_GCP_BUCKET_NAME/PATH_TO_THE_FILE_PARQUET'\n",
    "    \"\"\"\n",
    "    # Construct a BigQuery client object.\n",
    "    client = bigquery.Client()\n",
    "\n",
    "    # # Perform a query.\n",
    "    # QUERY = (\n",
    "    #     f'CREATE OR REPLACE EXTERNAL TABLE {table_id}'\n",
    "    #     'OPTIONS ('\n",
    "    #         'format = \"PARQUET\",'\n",
    "    #         f'uris = {gcs_parquet_file}'\n",
    "    #     ')'\n",
    "    # )\n",
    "\n",
    "    QUERY = (\n",
    "        f'LOAD DATA INTO {table_id}'\n",
    "        'OPTIONS ('\n",
    "            'format = \"PARQUET\",'\n",
    "            f'uris = {gcs_parquet_file}'\n",
    "        ')'\n",
    "    )\n",
    "\n",
    "    query_job = client.query(QUERY)  # API request\n",
    "    # rows = query_job.result()  # Waits for query to finish"
   ]
  },
  {
   "cell_type": "markdown",
   "metadata": {},
   "source": [
    "### The End......."
   ]
  }
 ],
 "metadata": {
  "kernelspec": {
   "display_name": "Python 3 (ipykernel)",
   "language": "python",
   "name": "python3"
  },
  "language_info": {
   "codemirror_mode": {
    "name": "ipython",
    "version": 3
   },
   "file_extension": ".py",
   "mimetype": "text/x-python",
   "name": "python",
   "nbconvert_exporter": "python",
   "pygments_lexer": "ipython3",
   "version": "3.8.13"
  },
  "vscode": {
   "interpreter": {
    "hash": "494c90ffea2053e1d478862651e70463b529ab2d579abda18db8e48081cff208"
   }
  }
 },
 "nbformat": 4,
 "nbformat_minor": 4
}
